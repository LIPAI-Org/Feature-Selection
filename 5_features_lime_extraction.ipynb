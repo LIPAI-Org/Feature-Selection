{
 "cells": [
  {
   "cell_type": "code",
   "execution_count": 1,
   "id": "c90eada4",
   "metadata": {},
   "outputs": [],
   "source": [
    "import numpy as np\n",
    "import mrmr\n",
    "import pandas as pd"
   ]
  },
  {
   "cell_type": "code",
   "execution_count": 2,
   "id": "68a8624d",
   "metadata": {},
   "outputs": [],
   "source": [
    "def cutting_image_feat(image, window_size, window_cut, image_height, image_width, window_step):\n",
    "    '''\n",
    "    cut image in small images\n",
    "    Input:\n",
    "        image:          image\n",
    "        window_size:    size of the window\n",
    "        window_cut:     size for cutting the window\n",
    "        image_height:   image heigth\n",
    "        image_width:    image width\n",
    "        window_step:    stride\n",
    "    Output:\n",
    "        windows:        array of images\n",
    "    '''\n",
    "    windows = []\n",
    "    for y in range(0, image_height, window_cut):\n",
    "        for x in range(0, image_width, window_cut):\n",
    "            window = image[y:y+window_size, x:x+window_size]\n",
    "            windows.append(window)\n",
    "    return windows"
   ]
  },
  {
   "cell_type": "code",
   "execution_count": 3,
   "id": "068ed5c9",
   "metadata": {},
   "outputs": [],
   "source": [
    "def take_features_from_image(feat_X, X, save_dir):\n",
    "    '''\n",
    "    Extract windows from image and flatten\n",
    "    Input:\n",
    "        feat_X:         features indices in image\n",
    "        X:              image\n",
    "        save_dir:       dir to save extracted features\n",
    "    Output:\n",
    "    '''\n",
    "    \n",
    "    all_feat = []\n",
    "\n",
    "    for i in range(feat_X.shape[0]):\n",
    "        relevant = []\n",
    "\n",
    "        crop_img = cutting_image_feat(X[i], 28,28,224,224,1)\n",
    "        vec = feat_X[i]\n",
    "\n",
    "        for idx in vec:\n",
    "            img_feat = crop_img[int(idx)-1]\n",
    "            red_channel = img_feat[:,:,2]\n",
    "            feat = np.max(red_channel)\n",
    "            relevant.append(feat/255.0)\n",
    "        \n",
    "        rel = np.asarray(relevant)\n",
    "        all_feat.append(rel)\n",
    "\n",
    "    \n",
    "    all_f = np.asarray(all_feat)\n",
    "\n",
    "        \n",
    "    flatten_img = []\n",
    "    for img in all_f:\n",
    "        flatten_img.append(img.flatten())\n",
    "    \n",
    "    flatten_img_s = np.asarray(flatten_img)\n",
    "    \n",
    "    np.save(save_dir, flatten_img_s)"
   ]
  },
  {
   "cell_type": "code",
   "execution_count": null,
   "id": "5e8d43a9",
   "metadata": {},
   "outputs": [],
   "source": []
  }
 ],
 "metadata": {
  "kernelspec": {
   "display_name": "Python 3 (ipykernel)",
   "language": "python",
   "name": "python3"
  },
  "language_info": {
   "codemirror_mode": {
    "name": "ipython",
    "version": 3
   },
   "file_extension": ".py",
   "mimetype": "text/x-python",
   "name": "python",
   "nbconvert_exporter": "python",
   "pygments_lexer": "ipython3",
   "version": "3.9.16"
  }
 },
 "nbformat": 4,
 "nbformat_minor": 5
}
