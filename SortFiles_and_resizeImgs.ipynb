{
 "cells": [
  {
   "cell_type": "code",
   "execution_count": 1,
   "id": "3bb49c79",
   "metadata": {},
   "outputs": [],
   "source": [
    "import os\n",
    "import numpy as np\n",
    "import cv2\n",
    "import imutils"
   ]
  },
  {
   "cell_type": "code",
   "execution_count": 2,
   "id": "e8c37fd4",
   "metadata": {},
   "outputs": [],
   "source": [
    "classes = ['healthy', 'mild', 'moderate', 'severe']\n",
    "classes2 = ['Carcinoma KO', 'Displasia Intensa KO','Displasia Leve KO', 'Displasia Moderada KO','KO NT', 'Papiloma KO']\n",
    "classes3 = ['Carcinoma WT', 'Displasia Intensa WT','Displasia Leve WT', 'Displasia Moderada WT','WT NT', 'Papiloma WT']"
   ]
  },
  {
   "cell_type": "code",
   "execution_count": 3,
   "id": "73f48f97",
   "metadata": {},
   "outputs": [],
   "source": [
    "dir_img = 'E:/dataSet-IC2/displasiaDataAug/'\n",
    "dir_img_KO = 'E:/dataSet-IC2/displasiaKODataAug/'\n",
    "dir_img_WT = 'E:/dataSet-IC2/displasiaWTDataAug/'\n",
    "\n",
    "save_dir_224 = 'E:/MODELS_DISPLASIA_BACKUP/MODELS_DISPLASIA/images_np/img_disp_224/'\n",
    "save_dir_227 = 'E:/MODELS_DISPLASIA_BACKUP/MODELS_DISPLASIA/images_np/img_disp_227/'\n",
    "save_dir_KO_224 = 'E:/MODELS_DISPLASIA_BACKUP/MODELS_DISPLASIA/images_np/img_disp_KO_224/'\n",
    "save_dir_KO_227 = 'E:/MODELS_DISPLASIA_BACKUP/MODELS_DISPLASIA/images_np/img_disp_KO_227/'\n",
    "save_dir_WT_224 = 'E:/MODELS_DISPLASIA_BACKUP/MODELS_DISPLASIA/images_np/img_disp_WT_224/'\n",
    "save_dir_WT_227 = 'E:/MODELS_DISPLASIA_BACKUP/MODELS_DISPLASIA/images_np/img_disp_WT_227/'"
   ]
  },
  {
   "cell_type": "code",
   "execution_count": 4,
   "id": "242fa9ab",
   "metadata": {},
   "outputs": [],
   "source": [
    "def save_img_as_np(classes, dir_img, save_dir, IMG_SIZE):\n",
    "    \n",
    "    '''\n",
    "    Save image in alpha numeric sorted\n",
    "    Input:\n",
    "        classes:  classes\n",
    "        dir_img:  images dir name\n",
    "        save_dir: save dir name\n",
    "        IMG_SIZE: image size\n",
    "        \n",
    "    Output:\n",
    "    '''\n",
    "    \n",
    "    for clss in classes:\n",
    "    \n",
    "        img_paths = sorted(os.listdir(dir_img + clss))\n",
    "        #print(img_paths)\n",
    "        imgs = []\n",
    "        #failed_imgs = []\n",
    "        #count = 0\n",
    "        for img_path in img_paths:\n",
    "            img = cv2.imread(os.path.join(dir_img , clss, img_path))\n",
    "            resized_img = cv2.resize(img, (IMG_SIZE,IMG_SIZE))\n",
    "            imgs.append(resized_img)\n",
    "\n",
    "        imgs = np.asarray(imgs)\n",
    "        \n",
    "        print(\"Saving images from class: \", clss)\n",
    "        \n",
    "        np.save(save_dir + 'img_' + clss + '_' + str(IMG_SIZE) + '.npy', imgs)\n",
    "        # np.save(save_dir + 'img_' + clss + '_' + str(IMG_SIZE) + 'failedImgs.npy', failed_imgs)"
   ]
  },
  {
   "cell_type": "code",
   "execution_count": 5,
   "id": "4eb6bab7",
   "metadata": {},
   "outputs": [
    {
     "name": "stdout",
     "output_type": "stream",
     "text": [
      "Saving images from class:  healthy\n",
      "Saving images from class:  mild\n",
      "Saving images from class:  moderate\n",
      "Saving images from class:  severe\n"
     ]
    }
   ],
   "source": [
    "save_img_as_np(classes, dir_img, save_dir_224, 224)"
   ]
  },
  {
   "cell_type": "code",
   "execution_count": 6,
   "id": "06277cd2",
   "metadata": {},
   "outputs": [
    {
     "name": "stdout",
     "output_type": "stream",
     "text": [
      "Saving images from class:  healthy\n",
      "Saving images from class:  mild\n",
      "Saving images from class:  moderate\n",
      "Saving images from class:  severe\n"
     ]
    }
   ],
   "source": [
    "save_img_as_np(classes, dir_img, save_dir_227, 227)"
   ]
  },
  {
   "cell_type": "code",
   "execution_count": 7,
   "id": "9953fb53",
   "metadata": {},
   "outputs": [
    {
     "name": "stdout",
     "output_type": "stream",
     "text": [
      "Saving images from class:  Carcinoma KO\n",
      "Saving images from class:  Displasia Intensa KO\n",
      "Saving images from class:  Displasia Leve KO\n",
      "Saving images from class:  Displasia Moderada KO\n",
      "Saving images from class:  KO NT\n",
      "Saving images from class:  Papiloma KO\n"
     ]
    }
   ],
   "source": [
    "save_img_as_np(classes2, dir_img_KO, save_dir_KO_224, 224)"
   ]
  },
  {
   "cell_type": "code",
   "execution_count": 8,
   "id": "c650b7b2",
   "metadata": {},
   "outputs": [
    {
     "name": "stdout",
     "output_type": "stream",
     "text": [
      "Saving images from class:  Carcinoma KO\n",
      "Saving images from class:  Displasia Intensa KO\n",
      "Saving images from class:  Displasia Leve KO\n",
      "Saving images from class:  Displasia Moderada KO\n",
      "Saving images from class:  KO NT\n",
      "Saving images from class:  Papiloma KO\n"
     ]
    }
   ],
   "source": [
    "save_img_as_np(classes2, dir_img_KO, save_dir_KO_227, 227)"
   ]
  },
  {
   "cell_type": "code",
   "execution_count": 9,
   "id": "694dbf19",
   "metadata": {
    "scrolled": true
   },
   "outputs": [
    {
     "name": "stdout",
     "output_type": "stream",
     "text": [
      "Saving images from class:  Carcinoma WT\n",
      "Saving images from class:  Displasia Intensa WT\n",
      "Saving images from class:  Displasia Leve WT\n",
      "Saving images from class:  Displasia Moderada WT\n",
      "Saving images from class:  WT NT\n",
      "Saving images from class:  Papiloma WT\n"
     ]
    }
   ],
   "source": [
    "save_img_as_np(classes3, dir_img_WT, save_dir_WT_224, 224)"
   ]
  },
  {
   "cell_type": "code",
   "execution_count": 10,
   "id": "6110f849",
   "metadata": {},
   "outputs": [
    {
     "name": "stdout",
     "output_type": "stream",
     "text": [
      "Saving images from class:  Carcinoma WT\n",
      "Saving images from class:  Displasia Intensa WT\n",
      "Saving images from class:  Displasia Leve WT\n",
      "Saving images from class:  Displasia Moderada WT\n",
      "Saving images from class:  WT NT\n",
      "Saving images from class:  Papiloma WT\n"
     ]
    }
   ],
   "source": [
    "save_img_as_np(classes3, dir_img_WT, save_dir_WT_227, 227)"
   ]
  },
  {
   "cell_type": "code",
   "execution_count": null,
   "id": "b71c2dd4",
   "metadata": {},
   "outputs": [],
   "source": []
  }
 ],
 "metadata": {
  "kernelspec": {
   "display_name": "Python 3 (ipykernel)",
   "language": "python",
   "name": "python3"
  },
  "language_info": {
   "codemirror_mode": {
    "name": "ipython",
    "version": 3
   },
   "file_extension": ".py",
   "mimetype": "text/x-python",
   "name": "python",
   "nbconvert_exporter": "python",
   "pygments_lexer": "ipython3",
   "version": "3.9.16"
  }
 },
 "nbformat": 4,
 "nbformat_minor": 5
}
