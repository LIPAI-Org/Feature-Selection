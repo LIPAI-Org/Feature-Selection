{
 "cells": [
  {
   "cell_type": "code",
   "execution_count": 1,
   "id": "53c2781e",
   "metadata": {},
   "outputs": [
    {
     "data": {
      "text/plain": [
       "'/device:GPU:0'"
      ]
     },
     "execution_count": 1,
     "metadata": {},
     "output_type": "execute_result"
    }
   ],
   "source": [
    "import tensorflow as tf\n",
    "tf.test.gpu_device_name()"
   ]
  },
  {
   "cell_type": "code",
   "execution_count": 2,
   "id": "7e5ba059",
   "metadata": {},
   "outputs": [],
   "source": [
    "import numpy as np\n",
    "import keras\n",
    "from sklearn.model_selection import train_test_split\n",
    "from sklearn import svm\n",
    "from sklearn import metrics\n",
    "from sklearn.ensemble import RandomForestClassifier"
   ]
  },
  {
   "cell_type": "code",
   "execution_count": 3,
   "id": "3a8b07b6",
   "metadata": {},
   "outputs": [],
   "source": [
    "import myModel\n",
    "\n",
    "new_model = myModel.load_model()"
   ]
  },
  {
   "cell_type": "code",
   "execution_count": 3,
   "id": "f6b88e28",
   "metadata": {},
   "outputs": [],
   "source": [
    "import myModelSquezzeDenseWB\n",
    "\n",
    "new_modelDense = myModelSquezzeDenseWB.load_model()"
   ]
  },
  {
   "cell_type": "code",
   "execution_count": 3,
   "id": "24eddda7",
   "metadata": {},
   "outputs": [],
   "source": [
    "import myModelRawSqueezeNet\n",
    "\n",
    "new_modelRaw = myModelRawSqueezeNet.load_model()"
   ]
  },
  {
   "cell_type": "code",
   "execution_count": 4,
   "id": "0bcfefb4",
   "metadata": {},
   "outputs": [
    {
     "name": "stdout",
     "output_type": "stream",
     "text": [
      "Model: \"model\"\n",
      "__________________________________________________________________________________________________\n",
      "Layer (type)                    Output Shape         Param #     Connected to                     \n",
      "==================================================================================================\n",
      "data_unnormalized (InputLayer)  [(None, 227, 227, 3) 0                                            \n",
      "__________________________________________________________________________________________________\n",
      "data_ (Normalization)           (None, 227, 227, 3)  309175      data_unnormalized[0][0]          \n",
      "__________________________________________________________________________________________________\n",
      "conv1_ (Conv2D)                 (None, 113, 113, 64) 1792        data_[0][0]                      \n",
      "__________________________________________________________________________________________________\n",
      "re_lu (ReLU)                    (None, 113, 113, 64) 0           conv1_[0][0]                     \n",
      "__________________________________________________________________________________________________\n",
      "max_pooling2d (MaxPooling2D)    (None, 56, 56, 64)   0           re_lu[0][0]                      \n",
      "__________________________________________________________________________________________________\n",
      "fire2_squeeze1x1_ (Conv2D)      (None, 56, 56, 16)   1040        max_pooling2d[0][0]              \n",
      "__________________________________________________________________________________________________\n",
      "re_lu_1 (ReLU)                  (None, 56, 56, 16)   0           fire2_squeeze1x1_[0][0]          \n",
      "__________________________________________________________________________________________________\n",
      "zero_padding2d (ZeroPadding2D)  (None, 58, 58, 16)   0           re_lu_1[0][0]                    \n",
      "__________________________________________________________________________________________________\n",
      "fire2_expand1x1_ (Conv2D)       (None, 56, 56, 64)   1088        re_lu_1[0][0]                    \n",
      "__________________________________________________________________________________________________\n",
      "fire2_expand3x3_ (Conv2D)       (None, 56, 56, 64)   9280        zero_padding2d[0][0]             \n",
      "__________________________________________________________________________________________________\n",
      "re_lu_2 (ReLU)                  (None, 56, 56, 64)   0           fire2_expand1x1_[0][0]           \n",
      "__________________________________________________________________________________________________\n",
      "re_lu_3 (ReLU)                  (None, 56, 56, 64)   0           fire2_expand3x3_[0][0]           \n",
      "__________________________________________________________________________________________________\n",
      "concatenate (Concatenate)       (None, 56, 56, 128)  0           re_lu_2[0][0]                    \n",
      "                                                                 re_lu_3[0][0]                    \n",
      "__________________________________________________________________________________________________\n",
      "fire3_squeeze1x1_ (Conv2D)      (None, 56, 56, 16)   2064        concatenate[0][0]                \n",
      "__________________________________________________________________________________________________\n",
      "re_lu_4 (ReLU)                  (None, 56, 56, 16)   0           fire3_squeeze1x1_[0][0]          \n",
      "__________________________________________________________________________________________________\n",
      "zero_padding2d_1 (ZeroPadding2D (None, 58, 58, 16)   0           re_lu_4[0][0]                    \n",
      "__________________________________________________________________________________________________\n",
      "fire3_expand1x1_ (Conv2D)       (None, 56, 56, 64)   1088        re_lu_4[0][0]                    \n",
      "__________________________________________________________________________________________________\n",
      "fire3_expand3x3_ (Conv2D)       (None, 56, 56, 64)   9280        zero_padding2d_1[0][0]           \n",
      "__________________________________________________________________________________________________\n",
      "re_lu_5 (ReLU)                  (None, 56, 56, 64)   0           fire3_expand1x1_[0][0]           \n",
      "__________________________________________________________________________________________________\n",
      "re_lu_6 (ReLU)                  (None, 56, 56, 64)   0           fire3_expand3x3_[0][0]           \n",
      "__________________________________________________________________________________________________\n",
      "concatenate_1 (Concatenate)     (None, 56, 56, 128)  0           re_lu_5[0][0]                    \n",
      "                                                                 re_lu_6[0][0]                    \n",
      "__________________________________________________________________________________________________\n",
      "zero_padding2d_2 (ZeroPadding2D (None, 57, 57, 128)  0           concatenate_1[0][0]              \n",
      "__________________________________________________________________________________________________\n",
      "max_pooling2d_1 (MaxPooling2D)  (None, 28, 28, 128)  0           zero_padding2d_2[0][0]           \n",
      "__________________________________________________________________________________________________\n",
      "fire4_squeeze1x1_ (Conv2D)      (None, 28, 28, 32)   4128        max_pooling2d_1[0][0]            \n",
      "__________________________________________________________________________________________________\n",
      "re_lu_7 (ReLU)                  (None, 28, 28, 32)   0           fire4_squeeze1x1_[0][0]          \n",
      "__________________________________________________________________________________________________\n",
      "zero_padding2d_3 (ZeroPadding2D (None, 30, 30, 32)   0           re_lu_7[0][0]                    \n",
      "__________________________________________________________________________________________________\n",
      "fire4_expand1x1_ (Conv2D)       (None, 28, 28, 128)  4224        re_lu_7[0][0]                    \n",
      "__________________________________________________________________________________________________\n",
      "fire4_expand3x3_ (Conv2D)       (None, 28, 28, 128)  36992       zero_padding2d_3[0][0]           \n",
      "__________________________________________________________________________________________________\n",
      "re_lu_8 (ReLU)                  (None, 28, 28, 128)  0           fire4_expand1x1_[0][0]           \n",
      "__________________________________________________________________________________________________\n",
      "re_lu_9 (ReLU)                  (None, 28, 28, 128)  0           fire4_expand3x3_[0][0]           \n",
      "__________________________________________________________________________________________________\n",
      "concatenate_2 (Concatenate)     (None, 28, 28, 256)  0           re_lu_8[0][0]                    \n",
      "                                                                 re_lu_9[0][0]                    \n",
      "__________________________________________________________________________________________________\n",
      "fire5_squeeze1x1_ (Conv2D)      (None, 28, 28, 32)   8224        concatenate_2[0][0]              \n",
      "__________________________________________________________________________________________________\n",
      "re_lu_10 (ReLU)                 (None, 28, 28, 32)   0           fire5_squeeze1x1_[0][0]          \n",
      "__________________________________________________________________________________________________\n",
      "zero_padding2d_4 (ZeroPadding2D (None, 30, 30, 32)   0           re_lu_10[0][0]                   \n",
      "__________________________________________________________________________________________________\n",
      "fire5_expand1x1_ (Conv2D)       (None, 28, 28, 128)  4224        re_lu_10[0][0]                   \n",
      "__________________________________________________________________________________________________\n",
      "fire5_expand3x3_ (Conv2D)       (None, 28, 28, 128)  36992       zero_padding2d_4[0][0]           \n",
      "__________________________________________________________________________________________________\n",
      "re_lu_11 (ReLU)                 (None, 28, 28, 128)  0           fire5_expand1x1_[0][0]           \n",
      "__________________________________________________________________________________________________\n",
      "re_lu_12 (ReLU)                 (None, 28, 28, 128)  0           fire5_expand3x3_[0][0]           \n",
      "__________________________________________________________________________________________________\n",
      "concatenate_3 (Concatenate)     (None, 28, 28, 256)  0           re_lu_11[0][0]                   \n",
      "                                                                 re_lu_12[0][0]                   \n",
      "__________________________________________________________________________________________________\n",
      "zero_padding2d_5 (ZeroPadding2D (None, 29, 29, 256)  0           concatenate_3[0][0]              \n",
      "__________________________________________________________________________________________________\n",
      "max_pooling2d_2 (MaxPooling2D)  (None, 14, 14, 256)  0           zero_padding2d_5[0][0]           \n",
      "__________________________________________________________________________________________________\n",
      "fire6_squeeze1x1_ (Conv2D)      (None, 14, 14, 48)   12336       max_pooling2d_2[0][0]            \n",
      "__________________________________________________________________________________________________\n",
      "re_lu_13 (ReLU)                 (None, 14, 14, 48)   0           fire6_squeeze1x1_[0][0]          \n",
      "__________________________________________________________________________________________________\n",
      "zero_padding2d_6 (ZeroPadding2D (None, 16, 16, 48)   0           re_lu_13[0][0]                   \n",
      "__________________________________________________________________________________________________\n",
      "fire6_expand1x1_ (Conv2D)       (None, 14, 14, 192)  9408        re_lu_13[0][0]                   \n",
      "__________________________________________________________________________________________________\n",
      "fire6_expand3x3_ (Conv2D)       (None, 14, 14, 192)  83136       zero_padding2d_6[0][0]           \n",
      "__________________________________________________________________________________________________\n",
      "re_lu_14 (ReLU)                 (None, 14, 14, 192)  0           fire6_expand1x1_[0][0]           \n",
      "__________________________________________________________________________________________________\n",
      "re_lu_15 (ReLU)                 (None, 14, 14, 192)  0           fire6_expand3x3_[0][0]           \n",
      "__________________________________________________________________________________________________\n",
      "concatenate_4 (Concatenate)     (None, 14, 14, 384)  0           re_lu_14[0][0]                   \n",
      "                                                                 re_lu_15[0][0]                   \n",
      "__________________________________________________________________________________________________\n",
      "fire7_squeeze1x1_ (Conv2D)      (None, 14, 14, 48)   18480       concatenate_4[0][0]              \n",
      "__________________________________________________________________________________________________\n",
      "re_lu_16 (ReLU)                 (None, 14, 14, 48)   0           fire7_squeeze1x1_[0][0]          \n",
      "__________________________________________________________________________________________________\n",
      "zero_padding2d_7 (ZeroPadding2D (None, 16, 16, 48)   0           re_lu_16[0][0]                   \n",
      "__________________________________________________________________________________________________\n",
      "fire7_expand1x1_ (Conv2D)       (None, 14, 14, 192)  9408        re_lu_16[0][0]                   \n",
      "__________________________________________________________________________________________________\n",
      "fire7_expand3x3_ (Conv2D)       (None, 14, 14, 192)  83136       zero_padding2d_7[0][0]           \n",
      "__________________________________________________________________________________________________\n",
      "re_lu_17 (ReLU)                 (None, 14, 14, 192)  0           fire7_expand1x1_[0][0]           \n",
      "__________________________________________________________________________________________________\n",
      "re_lu_18 (ReLU)                 (None, 14, 14, 192)  0           fire7_expand3x3_[0][0]           \n",
      "__________________________________________________________________________________________________\n",
      "concatenate_5 (Concatenate)     (None, 14, 14, 384)  0           re_lu_17[0][0]                   \n",
      "                                                                 re_lu_18[0][0]                   \n",
      "__________________________________________________________________________________________________\n",
      "fire8_squeeze1x1_ (Conv2D)      (None, 14, 14, 64)   24640       concatenate_5[0][0]              \n",
      "__________________________________________________________________________________________________\n",
      "re_lu_19 (ReLU)                 (None, 14, 14, 64)   0           fire8_squeeze1x1_[0][0]          \n",
      "__________________________________________________________________________________________________\n",
      "zero_padding2d_8 (ZeroPadding2D (None, 16, 16, 64)   0           re_lu_19[0][0]                   \n",
      "__________________________________________________________________________________________________\n",
      "fire8_expand1x1_ (Conv2D)       (None, 14, 14, 256)  16640       re_lu_19[0][0]                   \n",
      "__________________________________________________________________________________________________\n",
      "fire8_expand3x3_ (Conv2D)       (None, 14, 14, 256)  147712      zero_padding2d_8[0][0]           \n",
      "__________________________________________________________________________________________________\n",
      "re_lu_20 (ReLU)                 (None, 14, 14, 256)  0           fire8_expand1x1_[0][0]           \n",
      "__________________________________________________________________________________________________\n",
      "re_lu_21 (ReLU)                 (None, 14, 14, 256)  0           fire8_expand3x3_[0][0]           \n",
      "__________________________________________________________________________________________________\n",
      "concatenate_6 (Concatenate)     (None, 14, 14, 512)  0           re_lu_20[0][0]                   \n",
      "                                                                 re_lu_21[0][0]                   \n",
      "__________________________________________________________________________________________________\n",
      "fire9_squeeze1x1_ (Conv2D)      (None, 14, 14, 64)   32832       concatenate_6[0][0]              \n",
      "__________________________________________________________________________________________________\n",
      "re_lu_22 (ReLU)                 (None, 14, 14, 64)   0           fire9_squeeze1x1_[0][0]          \n",
      "__________________________________________________________________________________________________\n",
      "zero_padding2d_9 (ZeroPadding2D (None, 16, 16, 64)   0           re_lu_22[0][0]                   \n",
      "__________________________________________________________________________________________________\n",
      "fire9_expand1x1_ (Conv2D)       (None, 14, 14, 256)  16640       re_lu_22[0][0]                   \n",
      "__________________________________________________________________________________________________\n",
      "fire9_expand3x3_ (Conv2D)       (None, 14, 14, 256)  147712      zero_padding2d_9[0][0]           \n",
      "__________________________________________________________________________________________________\n",
      "re_lu_23 (ReLU)                 (None, 14, 14, 256)  0           fire9_expand1x1_[0][0]           \n",
      "__________________________________________________________________________________________________\n",
      "re_lu_24 (ReLU)                 (None, 14, 14, 256)  0           fire9_expand3x3_[0][0]           \n",
      "__________________________________________________________________________________________________\n",
      "concatenate_7 (Concatenate)     (None, 14, 14, 512)  0           re_lu_23[0][0]                   \n",
      "                                                                 re_lu_24[0][0]                   \n",
      "__________________________________________________________________________________________________\n",
      "dropout (Dropout)               (None, 14, 14, 512)  0           concatenate_7[0][0]              \n",
      "__________________________________________________________________________________________________\n",
      "conv10_ (Conv2D)                (None, 14, 14, 1000) 513000      dropout[0][0]                    \n",
      "__________________________________________________________________________________________________\n",
      "re_lu_25 (ReLU)                 (None, 14, 14, 1000) 0           conv10_[0][0]                    \n",
      "__________________________________________________________________________________________________\n",
      "global_average_pooling2d (Globa (None, 1, 1, 1000)   0           re_lu_25[0][0]                   \n",
      "__________________________________________________________________________________________________\n",
      "softmax (Softmax)               (None, 1, 1, 1000)   0           global_average_pooling2d[0][0]   \n",
      "__________________________________________________________________________________________________\n",
      "flatten (Flatten)               (None, 1000)         0           softmax[0][0]                    \n",
      "==================================================================================================\n",
      "Total params: 1,544,671\n",
      "Trainable params: 1,235,496\n",
      "Non-trainable params: 309,175\n",
      "__________________________________________________________________________________________________\n"
     ]
    }
   ],
   "source": [
    "new_modelRaw.summary()"
   ]
  },
  {
   "cell_type": "code",
   "execution_count": 5,
   "id": "d82109f4",
   "metadata": {},
   "outputs": [],
   "source": [
    "def sample_detach (imgs_dir, labels_dir, validation = False):\n",
    "    \n",
    "    X = np.load(imgs_dir)\n",
    "    Y = np.load(labels_dir)\n",
    "    \n",
    "    if validation:\n",
    "\n",
    "        #divide os dados em 80% para treino e 20% para teste\n",
    "        train_X, test_X, train_label, test_label = train_test_split(X, Y, test_size=0.2, random_state=13)\n",
    "\n",
    "        #divide os dados de treino em 80% para treino e 20% para validação\n",
    "        train_X, valid_X, train_label, valid_label = train_test_split(train_X, train_label, test_size=0.2, random_state=13)\n",
    "\n",
    "        #mostra os shapes resultantes das divisões\n",
    "        print(\"Training, test and validation shape\")\n",
    "        print(\"Training:   \", train_X.shape, train_label.shape)\n",
    "        print(\"Validation: \", valid_X.shape, valid_label.shape)\n",
    "        print(\"Testing:    \", test_X.shape, test_label.shape)\n",
    "        \n",
    "        return train_X, train_label, test_X, test_label, valid_X, valid_label\n",
    "    else:\n",
    "        \n",
    "        #divide os dados em 80% para treino e 20% para teste\n",
    "        train_X, test_X, train_label, test_label = train_test_split(X, Y, test_size=0.2, random_state=13)\n",
    "\n",
    "        #divide os dados de treino em 80% para treino e 20% para validação\n",
    "        #train_X, valid_X, train_label, valid_label = train_test_split(train_X, train_label, test_size=0.2, random_state=13)\n",
    "\n",
    "        #mostra os shapes resultantes das divisões\n",
    "        print(\"Training and test shape\")\n",
    "        print(\"Training:   \", train_X.shape, train_label.shape)\n",
    "        print(\"Testing:    \", test_X.shape, test_label.shape)\n",
    "        \n",
    "        return train_X, train_label, test_X, test_label"
   ]
  },
  {
   "cell_type": "code",
   "execution_count": 6,
   "id": "aebb169e",
   "metadata": {},
   "outputs": [],
   "source": [
    "def create_intermediate_model (model, layerName):\n",
    "    intermediate_layer_model = keras.Model(inputs=model.input,\n",
    "                                       outputs=model.get_layer(layerName).output)\n",
    "    return intermediate_layer_model"
   ]
  },
  {
   "cell_type": "code",
   "execution_count": 7,
   "id": "62c71655",
   "metadata": {},
   "outputs": [],
   "source": [
    "def predict_rf (model, layerName, train_X, train_label, test_X, test_label, crit = 'gini', numberEst = 100):\n",
    "    \n",
    "    intermediate_layer_model = create_intermediate_model(model, layerName)\n",
    "    \n",
    "    intermediate_output = intermediate_layer_model.predict(train_X)\n",
    "    intermediate_output = np.reshape(intermediate_output, (intermediate_output.shape[0], -1))\n",
    "    \n",
    "    clf = RandomForestClassifier(n_estimators = numberEst, criterion = crit)\n",
    "    predicted_classes = np.argmax(train_label, axis=1) #no onehot\n",
    "    clf.fit(intermediate_output, predicted_classes)\n",
    "    \n",
    "    intermediate_output_test = intermediate_layer_model.predict(test_X)\n",
    "    intermediate_output_test = np.reshape(intermediate_output_test, (intermediate_output_test.shape[0], -1))\n",
    "    \n",
    "    y_pred=clf.predict(intermediate_output_test)\n",
    "    predicted_classes = np.argmax(test_label, axis=1)\n",
    "    print(\"Accuracy Random Forest:\",metrics.accuracy_score(predicted_classes, y_pred))"
   ]
  },
  {
   "cell_type": "code",
   "execution_count": 8,
   "id": "f40660ad",
   "metadata": {},
   "outputs": [
    {
     "name": "stdout",
     "output_type": "stream",
     "text": [
      "Training and test shape\n",
      "Training:    (7965, 227, 227, 3) (7965, 4)\n",
      "Testing:     (1992, 227, 227, 3) (1992, 4)\n"
     ]
    }
   ],
   "source": [
    "train_X, train_label, test_X, test_label = sample_detach('E:/WB_cells_data/all_imgs_227.npy', 'E:/WB_cells_data/onehot.npy')"
   ]
  },
  {
   "cell_type": "code",
   "execution_count": 14,
   "id": "efb567b6",
   "metadata": {
    "scrolled": true
   },
   "outputs": [
    {
     "name": "stdout",
     "output_type": "stream",
     "text": [
      "Accuracy Random Forest: 0.8177710843373494\n"
     ]
    }
   ],
   "source": [
    "predict_rf(new_modelRaw, 'global_average_pooling2d', train_X, train_label, test_X, test_label, crit = 'log_loss')"
   ]
  },
  {
   "cell_type": "code",
   "execution_count": null,
   "id": "50683c8e",
   "metadata": {},
   "outputs": [],
   "source": []
  }
 ],
 "metadata": {
  "kernelspec": {
   "display_name": "Python 3 (ipykernel)",
   "language": "python",
   "name": "python3"
  },
  "language_info": {
   "codemirror_mode": {
    "name": "ipython",
    "version": 3
   },
   "file_extension": ".py",
   "mimetype": "text/x-python",
   "name": "python",
   "nbconvert_exporter": "python",
   "pygments_lexer": "ipython3",
   "version": "3.9.16"
  }
 },
 "nbformat": 4,
 "nbformat_minor": 5
}
