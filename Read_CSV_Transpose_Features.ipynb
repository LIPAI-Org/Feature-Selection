{
 "cells": [
  {
   "cell_type": "code",
   "execution_count": 1,
   "id": "6a6e3b00",
   "metadata": {},
   "outputs": [],
   "source": [
    "import numpy as np\n",
    "import csv\n",
    "import os"
   ]
  },
  {
   "cell_type": "code",
   "execution_count": 2,
   "id": "f3015857",
   "metadata": {},
   "outputs": [],
   "source": [
    "def read_and_transpose (file_load, file_save):\n",
    "    csv_filename = file_load\n",
    "    with open(csv_filename) as f:\n",
    "        reader = csv.reader(f)\n",
    "        lst = list(reader)\n",
    "    \n",
    "    array = np.array(lst)\n",
    "    array_2 = np.transpose(array)\n",
    "    np.save(file_save,array_2)"
   ]
  },
  {
   "cell_type": "code",
   "execution_count": 4,
   "id": "46914e1d",
   "metadata": {},
   "outputs": [],
   "source": [
    "path  = 'E:/MODELS_DISPLASIA_BACKUP/MODELS_DISPLASIA/imageLime/'\n",
    "save_path = 'E:/MODELS_DISPLASIA_BACKUP/MODELS_DISPLASIA/TransposedFeatures/'\n",
    "files = os.listdir(path)\n",
    "for file in files:\n",
    "    read_and_transpose(os.path.join(path, file), os.path.join(save_path, file[:-4] + '.npy'))"
   ]
  },
  {
   "cell_type": "code",
   "execution_count": null,
   "id": "163084de",
   "metadata": {},
   "outputs": [],
   "source": []
  }
 ],
 "metadata": {
  "kernelspec": {
   "display_name": "Python 3 (ipykernel)",
   "language": "python",
   "name": "python3"
  },
  "language_info": {
   "codemirror_mode": {
    "name": "ipython",
    "version": 3
   },
   "file_extension": ".py",
   "mimetype": "text/x-python",
   "name": "python",
   "nbconvert_exporter": "python",
   "pygments_lexer": "ipython3",
   "version": "3.9.16"
  }
 },
 "nbformat": 4,
 "nbformat_minor": 5
}
